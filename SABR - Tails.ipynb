{
 "cells": [
  {
   "cell_type": "markdown",
   "metadata": {
    "zanadu": {}
   },
   "source": [
    "# Implied volatility tails in the SABR model\n",
    "******\n",
    "Reference: \n",
    "S. De Marco, C. Hillairet, A. Jacquier.\n",
    "Shapes of implied volatility with positive mass at zero.\n",
    "SIAM Journal on Financial Mathematics, 8(1): 709-737, 2017.\n",
    "https://epubs.siam.org/doi/abs/10.1137/14098065X\n"
   ]
  },
  {
   "cell_type": "code",
   "execution_count": 2,
   "metadata": {
    "zanadu": {
     "code_type": "",
     "is_hidden": false
    }
   },
   "outputs": [],
   "source": [
    "from scipy.special import erfinv, gammainc, erfc\n",
    "import pandas as pd\n",
    "from scipy.optimize import bisect\n",
    "import numpy as np\n",
    "import matplotlib.pylab as plt\n"
   ]
  },
  {
   "cell_type": "markdown",
   "metadata": {
    "zanadu": {
     "is_hidden": false
    }
   },
   "source": [
    "# Tails Formulae"
   ]
  },
  {
   "cell_type": "markdown",
   "metadata": {
    "zanadu": {}
   },
   "source": [
    "## De Marco et al's formula \\cite{DMHJ}"
   ]
  },
  {
   "cell_type": "code",
   "execution_count": 6,
   "metadata": {
    "zanadu": {
     "is_hidden": false
    }
   },
   "outputs": [],
   "source": [
    "###De Marco et al Formula\n",
    "def ltqnorm(p): ## Inverse of the Gaussian cdf\n",
    "    return np.sqrt(2.) * erfinv(2.*p-1.)\n",
    "\t\n",
    "def smile_Asympt(k, t, q):\n",
    "    \"\"\"First-order correction term in the DMHJ paper\"\"\"\n",
    "    correction = ltqnorm(q)/np.sqrt(t)\n",
    "    return np.sqrt(2.*abs(k)/t) + correction\n",
    "\n",
    "def smile_Asympt2(k, t, q):\n",
    "    \"\"\"Second-order correction term in the DMHJ paper\"\"\"\n",
    "    q1 = ltqnorm(q)\n",
    "    correction2 = (q1*q1+2.)/(2.*np.sqrt(2.*t*abs(k))) + q1 / (4.*abs(k)*np.sqrt(t))\n",
    "    return smile_Asympt(k, t, q) + correction2"
   ]
  },
  {
   "cell_type": "markdown",
   "metadata": {
    "zanadu": {}
   },
   "source": [
    "## Gulisashvili's formula\n",
    "A. Gulisashvili. Left-wing asymptotics of the implied volatility in the presence of atoms. International Journal\n",
    "of Theoretical and Applied Finance, 18(2), 2015."
   ]
  },
  {
   "cell_type": "code",
   "execution_count": 7,
   "metadata": {
    "zanadu": {
     "code_type": "",
     "is_hidden": false
    }
   },
   "outputs": [],
   "source": [
    "def ncdf(x):\n",
    "    \"\"\"Gaussian cdf\"\"\"\n",
    "    return 1. - 0.5*erfc(x/np.sqrt(2.))\n",
    "\n",
    "def U(k,z):\n",
    "    \"\"\"U function in Gulisashvili paper\"\"\"\n",
    "    return ncdf(z) - np.exp(-0.5*z*z)/(2.*np.sqrt(np.pi)*np.sqrt(abs(k)))\n",
    "\n",
    "def U1Min(z, k0, m0):\n",
    "    return m0 - U(k0,z)\n",
    "\n",
    "def U1(k,m):\n",
    "    \"\"\"Inverse of the function U\"\"\"\n",
    "    return bisect(U1Min, -50., 20., args=(k, m), rtol=1e-10, maxiter=100, full_output=False, disp=True)\n",
    "\n",
    "def gulisashvili_ImpliedVol1(k, m, T):\n",
    "    \"\"\"First-order correction term in in Gulisashvili formula\"\"\"\n",
    "    uu = U1(k,m)\n",
    "    temp = np.sqrt(2.*abs(k)) + uu\n",
    "    return temp / np.sqrt(T)\n",
    "\n",
    "def gulisashvili_ImpliedVol2(k, m, T):\n",
    "    \"\"\"Second-order correction term in in Gulisashvili formula\"\"\"\n",
    "    uu = U1(k,m)\n",
    "    temp = np.sqrt(2.*abs(k)) + uu + uu*uu/(2.*np.sqrt(2.*abs(k)))\n",
    "    return temp / np.sqrt(T)"
   ]
  },
  {
   "cell_type": "markdown",
   "metadata": {
    "zanadu": {}
   },
   "source": [
    "## Numerical tests"
   ]
  },
  {
   "cell_type": "code",
   "execution_count": 9,
   "metadata": {
    "zanadu": {
     "is_hidden": true
    }
   },
   "outputs": [
    {
     "data": {
      "image/png": "[encoded data removed]",
      "text/plain": [
       "<Figure size 576x288 with 1 Axes>"
      ]
     },
     "metadata": {
      "needs_background": "light"
     },
     "output_type": "display_data"
    }
   ],
   "source": [
    "vMin, vMax = 1E-6, 10.0\n",
    "nu, beta, x0, y0, t = 0.25, 0.8, 0.0801, 0.0093, 15.0 #Obloj's values with rho=0\n",
    "q = 0.2 #mass_0_infty(y0, nu, beta, x0) ##large-maturity mass at zero\n",
    "logStrikes = np.linspace(-5., -0.2, 200)\n",
    "\n",
    "lineBound = [np.sqrt(2.) for k in logStrikes]\n",
    "ratios = [np.sqrt(t/abs(k)) for k in logStrikes]\n",
    "gulisashviliSmile = [gulisashvili_ImpliedVol2(k, q, t)*ratio for (k, ratio) in zip(logStrikes, ratios)]\n",
    "formula = [smile_Asympt(k, t, q)*ratio for (k, ratio) in zip(logStrikes, ratios)]\n",
    "formula2 = [smile_Asympt2(k, t, q)*ratio for (k, ratio) in zip(logStrikes, ratios)]\n",
    "    \n",
    "fig = plt.figure(figsize=(8,4))\n",
    "plt.plot(logStrikes, formula, 'r', linewidth = 2, label=\"First-order correction\")\n",
    "plt.plot(logStrikes, formula2, 'b', linewidth = 2, label=\"Second-order correction\")\n",
    "plt.plot(logStrikes, gulisashviliSmile, 'g', linewidth = 2, label=\"Gulisashvili\")\n",
    "plt.plot(logStrikes, lineBound, 'k', label=r'$\\sqrt{2}$ line', linewidth=3)\n",
    "plt.title(\"Left tail of the smile using the DMHJ asymptotic, mass = %.2f\" %q, fontsize=12, fontweight='bold')\n",
    "plt.xlabel(\"log strikes\", fontsize=14)\n",
    "plt.legend(loc = 2)\n",
    "plt.show()"
   ]
  },
  {
   "cell_type": "markdown",
   "metadata": {
    "zanadu": {}
   },
   "source": [
    "# Obloj's formula\n",
    "Jan Obloj. Fine-tune your smile: Correction to Hagan et al. Wilmott Magazine, May 2008. 3"
   ]
  },
  {
   "cell_type": "code",
   "execution_count": 10,
   "metadata": {
    "zanadu": {
     "is_hidden": false
    }
   },
   "outputs": [],
   "source": [
    "def oblojExpansion(x, *args):\n",
    "    args = args[0] \n",
    "    return oblojExpansion_jan(-x, args)\n",
    "    \n",
    "def oblojExpansion_jan(x, args):    \n",
    "    x0,y0,nu,beta,rho,T = args\n",
    "    b1 = 1.-beta\n",
    "    ## Note that in Obloj' expansion x = log(S/K)\n",
    "    #x = log(x0/K)\n",
    "    K = x0*np.exp(-x)\n",
    "    if x==0.0:\n",
    "        H0 = y0*pow(K, -b1)\n",
    "    elif nu==0.0:\n",
    "        H0 = x*y0*b1/(pow(x0,b1) - pow(K,b1))\n",
    "    elif beta==1.0:\n",
    "        z = nu*x / y0\n",
    "        xz = np.log((np.sqrt(1.-2.*rho*z+z*z) + z - rho)/(1.-rho))\n",
    "        H0 = (nu*x)/xz\n",
    "    else:\n",
    "        z = (nu/y0)*(pow(x0,b1) - pow(K,b1))/b1\n",
    "        xz = np.log((np.sqrt(1.-2.*rho*z+z*z) + z - rho)/(1.-rho))\n",
    "        H0 = nu*x / xz\n",
    "    H1 = (b1*b1/24.) * (y0*y0/pow(K*x0,b1)) + 0.25*rho*nu*beta*y0/pow(K*x0,0.5*b1)+ nu*nu*(2.-3.*rho*rho)/24.\n",
    "    return H0*(1. + H1*T)\n",
    "\n",
    "def totalImpliedVarObloj(x, *args):\n",
    "    args = args[0] \n",
    "    return oblojExpansion(x, args)*oblojExpansion(x, args)*args[5] ## we normalise by the maturity"
   ]
  },
  {
   "cell_type": "markdown",
   "metadata": {
    "zanadu": {}
   },
   "source": [
    "## Plot of the corresponding density"
   ]
  },
  {
   "cell_type": "markdown",
   "metadata": {
    "zanadu": {}
   },
   "source": [
    "Recall that, given the total implied variance at time $t$, the density of the corresponding stock price process reads\n",
    "$$\n",
    "p_T(k) = \\mathrm{e}^{k}\\left.\\frac{\\partial^2 C(k,T)}{\\partial K^2}\\right|_{K=S_0 e^{k}}\n",
    " = \\mathrm{e}^{k}\\left.\\frac{\\partial^2 \\widetilde{C}_{\\mathrm{BS}}(k, \\sqrt{w(k,T)})}{\\partial K^2}\\right|_{K=S_0 e^{k}}\n",
    " = \\frac{g(k,T)}{\\sqrt{2\\pi w(k,T)}}\\exp\\left(-\\frac{d_-(k, w(k,T))^2}{2}\\right),\n",
    "$$\n",
    "where\n",
    "$$\n",
    "\\left.\n",
    "g(k,T):=\\left(\\left(1-\\frac{k\\partial_k w}{w}\\right)^2 -\\frac{(\\partial_k w)^2}{4}\\left(\\frac{1}{4}+\\frac{1}{w}\\right) + \\frac{\\partial_{kk}w}{2}\\right)\n",
    "\\right|_{(k,T)}\\geq 0\n",
    ".$$"
   ]
  },
  {
   "cell_type": "code",
   "execution_count": 17,
   "metadata": {
    "zanadu": {
     "is_hidden": false
    }
   },
   "outputs": [],
   "source": [
    "## Remember that w is the TOTAL VARIANCE: w = sigma^2*T\n",
    "def g(w, x, eps, *args):\n",
    "    args = args[0]\n",
    "    ww = w(x,args)\n",
    "    ww1 = w1(w,x,eps,args)\n",
    "    return (1.-0.5*x*ww1/ww)*(1.-0.5*x*ww1/ww) - 0.25*ww1*ww1*(0.25+1./ww)+0.5*w2(w,x,eps,args)\n",
    "    \n",
    "def dd(w, x, *args):\n",
    "    args = args[0]\n",
    "    ww = w(x,args)\n",
    "    return -x / np.sqrt(ww)-0.5*np.sqrt(ww)\n",
    "    \n",
    "def density(w, x, eps, *args):\n",
    "    args = args[0]\n",
    "    d = dd(w,x,args)\n",
    "    return g(w,x,eps,args)*np.exp(-0.5*d*d)/np.sqrt(2.*np.pi*w(x,args))\n",
    "\n",
    "def w1(w, x, eps, *args):\n",
    "    args = args[0]\n",
    "    return (w(x+eps, args) - w(x-eps, args)) / (2.*eps)\n",
    "    \n",
    "def w2(w, x, eps, *args):\n",
    "    args = args[0]\n",
    "    return (w(x+eps, args) - 2.*w(x, args) + w(x-eps, args)) / (eps*eps)"
   ]
  },
  {
   "cell_type": "markdown",
   "metadata": {
    "zanadu": {}
   },
   "source": [
    "### Correction"
   ]
  },
  {
   "cell_type": "code",
   "execution_count": 18,
   "metadata": {
    "zanadu": {
     "is_hidden": false
    }
   },
   "outputs": [],
   "source": [
    "def sabrCorrection(x, *args):\n",
    "    mass = 0.0331940425357\n",
    "    args = args[0]\n",
    "    if density(totalImpliedVarObloj, x, eps, args) > 0.:\n",
    "        output = oblojExpansion_jan(-x, args)\n",
    "    else: \n",
    "        output = smile_Asympt2(x, args[5], q)\n",
    "    return output\n",
    "\n",
    "def sabrCorrection2(x, *args):\n",
    "    args = args[0]\n",
    "    return sabrCorrection(x, args)*sabrCorrection(x, args)*args[5] ## total implied variance"
   ]
  },
  {
   "cell_type": "markdown",
   "metadata": {
    "zanadu": {}
   },
   "source": [
    "## Numerics for the density"
   ]
  },
  {
   "cell_type": "code",
   "execution_count": 19,
   "metadata": {
    "zanadu": {
     "is_hidden": true
    }
   },
   "outputs": [
    {
     "data": {
      "image/png": "[encoded data removed]",
      "text/plain": [
       "<Figure size 1152x576 with 2 Axes>"
      ]
     },
     "metadata": {
      "needs_background": "light"
     },
     "output_type": "display_data"
    }
   ],
   "source": [
    "rho, nu, beta, x0, y0, T = -0.1, 1.5, 1.0, 0.01, 0.1, 1.0\n",
    "args = x0,y0,nu,beta,rho,T\n",
    "eps = 1E-6\n",
    "logStrikes = np.linspace(-1.5, 1.5, 200)\n",
    "\n",
    "oblojImpliedVol= [oblojExpansion(k, args) for k in logStrikes]\n",
    "myDensity = [density(totalImpliedVarObloj, k, eps, args) for k in logStrikes]\n",
    "zeroLine = [0. for _ in logStrikes]\n",
    "\n",
    "fig = plt.figure(figsize=(16,8))\n",
    "plt.subplot(2, 2, 1)\n",
    "plt.plot(logStrikes, oblojImpliedVol, 'b', linewidth = 2)\n",
    "plt.title(\"Obloj implied volatility expansion\", fontsize=12, fontweight='bold')\n",
    "\n",
    "plt.subplot(2, 2, 2)\n",
    "plt.plot(logStrikes, myDensity, 'b', linewidth = 2, label=\"Obloj density\")\n",
    "plt.plot(logStrikes, zeroLine, 'k', linewidth = 2)\n",
    "plt.title(\"Obloj implied density\", fontsize=12, fontweight='bold')\n",
    "plt.legend(loc=1)\n",
    "plt.show()"
   ]
  },
  {
   "cell_type": "markdown",
   "metadata": {
    "zanadu": {}
   },
   "source": [
    "# Large-time and tail numerical comparisons"
   ]
  },
  {
   "cell_type": "code",
   "execution_count": 21,
   "metadata": {
    "zanadu": {
     "code_type": ""
    }
   },
   "outputs": [],
   "source": [
    "nu, beta, rho, x0, y0, T = 0.3, 0., 0., 0.35, 0.05, 10. #Obloj's values with rho = 0"
   ]
  },
  {
   "cell_type": "code",
   "execution_count": 22,
   "metadata": {
    "zanadu": {
     "is_hidden": false
    }
   },
   "outputs": [
    {
     "data": {
      "image/png": "[encoded data removed]",
      "text/plain": [
       "<Figure size 576x288 with 1 Axes>"
      ]
     },
     "metadata": {
      "needs_background": "light"
     },
     "output_type": "display_data"
    }
   ],
   "source": [
    "args = x0, y0, nu, beta, rho, T\n",
    "logStrikes = np.linspace(-5., -1.1, 100)\n",
    "\n",
    "#############################\n",
    "## compute the large-time mass at zero\n",
    "## q = SABR_mass_0_infty(y0, nu, beta, x0) \n",
    "q = 0.2832354357389715 ## From the notebook \"SABR - Large Time Mass\"\n",
    "#############################\n",
    "\n",
    "sqrt2Line = [np.sqrt(2.) for _ in logStrikes]\n",
    "ratios = [np.sqrt(T/abs(k)) for k in logStrikes]\n",
    "oblojFormula = [oblojExpansion(k,args)*ratio for (k,ratio) in zip(logStrikes,ratios)]\n",
    "formula = [smile_Asympt(k,T,q)*ratio for (k,ratio) in zip(logStrikes,ratios)]\n",
    "formula2 = [smile_Asympt2(k,T,q)*ratio for (k,ratio) in zip(logStrikes,ratios)]\n",
    "gulisashviliSmile = [gulisashvili_ImpliedVol2(k, q, T)*ratio for (k,ratio) in zip(logStrikes,ratios)]\n",
    "\n",
    "fig = plt.figure(figsize=(8,4))\n",
    "plt.title(\"Implied volatility, mass = %.2f\" %q, fontsize=12, fontweight='bold')\n",
    "plt.plot(logStrikes, oblojFormula, 'g+', label=\"Obloj formula\")\n",
    "plt.plot(logStrikes, formula, 'r--', label=\"First-order correction\")\n",
    "plt.plot(logStrikes, formula2, 'b--', label=\"Second-order correction\")\n",
    "plt.plot(logStrikes, gulisashviliSmile, 'k--', label=\"Gulisashvili\")\n",
    "plt.plot(logStrikes, sqrt2Line, 'k-', label=r'$\\sqrt{2}$ line', linewidth=3)\n",
    "plt.legend(loc=1)\n",
    "plt.xlabel(\"log strikes\", fontsize=14)\n",
    "plt.show()"
   ]
  }
 ],
 "metadata": {
  "kernelspec": {
   "display_name": "Python 3",
   "language": "python",
   "name": "python3"
  },
  "language_info": {
   "codemirror_mode": {
    "name": "ipython",
    "version": 3
   },
   "file_extension": ".py",
   "mimetype": "text/x-python",
   "name": "python",
   "nbconvert_exporter": "python",
   "pygments_lexer": "ipython3",
   "version": "3.7.6"
  },
  "zanadu": {
   "authors": [
    "Antoine Jacquier"
   ],
   "bibliography_data": {
    "DMHJ": {
     "author": "Stefano De Marco and Caroline Hillairet and Antoine Jacquier",
     "id": "DMHJ",
     "title": "Shapes of implied volatility with positive mass at zero",
     "year": "2017"
    },
    "Gulisashvili": {
     "author": "Archil Gulisashvili",
     "id": "Gulisashvili",
     "journal": "International Journal of Theoretical and Applied Finance",
     "title": "Left-wing asymptotics of the implied volatility in the presence of atoms",
     "volume": "18(2)",
     "year": "2015"
    },
    "Obloj": {
     "author": "Jan Obloj",
     "id": "Obloj",
     "journal": "Wilmott Magazine",
     "title": "Fine-tune your smile: Correction to Hagan et al.",
     "year": "2008"
    }
   },
   "category": "1",
   "clearance": "Internal",
   "group_name": "ETHIC",
   "md5": "2e6f9dad3a289052956f223290a3c9b2",
   "notebook_id": "1B4228C1-9C12-4AC0-81CF-22EF0D59AC9E",
   "python_name": "SABR_Tails",
   "reviewer_id": null,
   "status": "WIP"
  }
 },
 "nbformat": 4,
 "nbformat_minor": 1
}
