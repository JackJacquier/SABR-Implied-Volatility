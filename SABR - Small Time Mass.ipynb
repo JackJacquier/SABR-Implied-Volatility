{
 "cells": [
  {
   "cell_type": "markdown",
   "metadata": {
    "zanadu": {}
   },
   "source": [
    "# Small-time asymptotics for the mass at zero in SABR\n",
    "***\n",
    "Reference: \n",
    "A. Gulisashvili, B. Horvath, A. Jacquier.\n",
    "Mass at zero in the uncorrelated SABR model. \n",
    "Quantitative Finance, 18(10): 1753-1765, 2018.\n",
    "https://www.tandfonline.com/doi/full/10.1080/14697688.2018.1432883"
   ]
  },
  {
   "cell_type": "code",
   "execution_count": 8,
   "metadata": {
    "zanadu": {
     "code_type": "",
     "is_hidden": false
    }
   },
   "outputs": [],
   "source": [
    "import numpy as np\n",
    "from scipy.special import gamma, gammainc, hyp1f1\n",
    "from scipy.integrate import quad\n",
    "from scipy.optimize import bisect\n",
    "import pandas as pd\n",
    "import matplotlib.pylab as plt\n",
    "from time import time"
   ]
  },
  {
   "cell_type": "markdown",
   "metadata": {
    "zanadu": {
     "is_hidden": false
    }
   },
   "source": [
    "The stochastic alpha, beta, rho (SABR) model is defined by the pair of coupled stochastic differential equations\n",
    "\\begin{equation}\\label{SABRdynamicsOriginal}\n",
    "\\begin{array}{rll}\n",
    "\\mathrm{d} X_t & = Y_t X_t^{\\beta}\\mathrm{d}W_t, \\qquad & X_0 = x_0,\\\\\n",
    "\\mathrm{d} Y_t & = \\nu Y_t \\mathrm{d}Z_t, \\qquad & Y_0 = y_0,\\\\\n",
    "\\mathrm{d} \\langle Z,W\\rangle_t & = \\rho \\mathrm{d}t,\n",
    "\\end{array}\n",
    "\\end{equation}\n",
    "with $\\beta<1$, $\\nu>0$ and $\\rho \\in (-1, 1)$.\n",
    "Let us now assume that the correlation $\\rho$ is null.\n",
    "Then, for any time $t\\geq 0$, the mass at zero has the following expression:\n",
    "$$\n",
    "\\mathbb{P}\\left(X_{t}=0\\right)\n",
    "=\\int_0^{\\infty} \\mathbb{P} \\left(\\widetilde{X}_{r}=0\\right) \\mathbb{P}\\left(\\int_0^t Y_s^2 \\mathrm{d}s\\in \\mathrm{d}r\\right)\\mathrm{d}r,\n",
    "$$\n",
    "where\n",
    "$$\n",
    "\\mathbb{P}\\left(\\widetilde{X}_{r}=0\\right) = 1-\\Gamma \\left(-\\frac{1}{2(1-\\beta)},\\frac{x_0^{2(1-\\beta)}}{2r(1-\\beta)^2}\\right), \n",
    "$$\n",
    "and $\\Gamma$ is the normalized lower incomplete Gamma function\n",
    "$\\Gamma(v,z) \\equiv \\Gamma(v)^{-1}\\int_0^zu^{v-1}\\mathrm{e}^{-u} \\mathrm{d}u$,\n",
    "and\n",
    "$$\n",
    "\\mathbb{P}\\left(\\int_0^t Y_s^2 \\mathrm{d}s\\in \\mathrm{d}r\\right)\n",
    "=\\mathbb{P}\\left(\\int_0^{t} \\mathrm{e}^{2\\nu Z^{(-\\nu/2)}_s} \\mathrm{d}s \\in \\mathrm{d}\\widetilde{r}\\right),\n",
    "$$\n",
    "where $\\widetilde{r}:=r/y_0^2$ and $Z^{(-\\nu/2)}_s:= Z_s -\\frac{\\nu s}{2}$.\n",
    "In Borodin-Salminen\\cite{Borodin}{exp}, the density of the above functional is given by\n",
    "$$\n",
    "\\mathbb{P}\\left(\\int_0^{t} e^{2\\nu Z^{(-\\nu/2)}_s} \\mathrm{d}s \\in \\mathrm{d}\\widetilde{r}\\right)\n",
    " = \\frac{2^{1/4}\\sqrt{\\nu}}{\\widetilde{r}^{3/4}}\n",
    "\\exp\\left(-\\frac{\\nu^2 t}{8}-\\frac{1}{4\\nu^2 \\widetilde{r}}\\right)\n",
    "m_{2 \\nu^2 t}\n",
    "\\left(-\\frac{3}{4}, \\frac{1}{4 \\nu^2 \\widetilde{r}}\\right)\\mathrm{d}\\widetilde{r},\n",
    "$$\n",
    "where the function $m$ is defined as\n",
    "$$\n",
    "m_y(\\mu,z) \\equiv \n",
    "\\frac{8 z^{3/2} \\Gamma(\\mu+\\frac{3}{2})\\mathrm{e}^{\\frac{\\pi ^2}{4y}}}{\\pi \\sqrt{2 \\pi y}} \n",
    "\\int_0^{\\infty} \\exp\\left(-z \\cosh (2u) - \\frac{1}{y}u^2\\right) \\mathrm{M}\\left(-\\mu,\\frac{3}{2}, 2 z \\sinh (u)^2\\right) \n",
    "\\sinh(2u)\\sin\\left(\\frac{\\pi u}{y}\\right) \\mathrm{d}u,\n",
    "$$\n",
    "where $\\mathrm{M}$ is the Kummer function."
   ]
  },
  {
   "cell_type": "markdown",
   "metadata": {
    "zanadu": {}
   },
   "source": [
    "# Computations by integration (quadrature)"
   ]
  },
  {
   "cell_type": "code",
   "execution_count": 9,
   "metadata": {
    "zanadu": {
     "code_type": "",
     "is_hidden": false
    }
   },
   "outputs": [],
   "source": [
    "################################################################\n",
    "###Computes the function m by direct integration (quadrature)###\n",
    "################################################################\n",
    "def integrand_m(y, z, u):\n",
    "    temp = np.exp(-z*np.cosh(2.*u))*hyp1f1(0.75, 1.5, 2.*z*np.sinh(u)*np.sinh(u))*np.sin(np.pi*u/y)\n",
    "    return np.exp(-u*u/y)*temp*np.sinh(2.*u)\n",
    "\n",
    "def m(y, z):\n",
    "    mu = -3./4.\n",
    "    c = 8. * z*np.sqrt(z/y)*gamma(mu+1.5)*np.exp(0.25*np.pi*np.pi/y)/(np.pi*np.sqrt(2.*np.pi))\n",
    "    return c*quad(lambda u: integrand_m(y, z, u), 0., 2., epsrel=1.49e-10, limit=200)[0]\n",
    "\n",
    "################################################################\n",
    "################################################################\n",
    "\n",
    "################################################################\n",
    "###Computes the mass by direct integration of the function m)###\n",
    "################################################################\n",
    "def pp(r, T, nu):\n",
    "    return 2.**(0.25)*np.sqrt(nu)/(r**(3./4.))*np.exp(-nu*nu*T/8. - 0.25/(nu*nu*r))*m(2.*nu*nu*T, 1./(4.*nu*nu*r))\n",
    "\n",
    "def ppX(r, beta, x0):\n",
    "    ## mass at zero in the CEV model\n",
    "    b1 = 1.-beta\n",
    "    return 1. - gammainc(0.5/b1, 0.5*x0**(2.*b1)/(r*b1*b1))\n",
    "################################################################\n",
    "################################################################"
   ]
  },
  {
   "cell_type": "code",
   "execution_count": 10,
   "metadata": {
    "zanadu": {
     "code_type": "importable"
    }
   },
   "outputs": [],
   "source": [
    "def mass_0_SmallTime(T, y0, nu, beta, x0, rMax=2.):\n",
    "    return quad(lambda r: pp(r/(y0*y0), T, nu)*ppX(r, beta, x0),0.,rMax)[0]/(y0*y0)\n",
    "\n",
    "def mass_0_SmallTimeQ(T, y0, nu, beta, x0, rMax=2., eps=1E-4): ## faster!!!!!!!!!!!!!!!\n",
    "    return quad(lambda r: pp(r/(y0*y0), T, nu)*ppX(r, beta, x0),0.,rMax, epsabs=eps)[0]/(y0*y0)"
   ]
  },
  {
   "cell_type": "markdown",
   "metadata": {
    "zanadu": {}
   },
   "source": [
    "#### Checking numerical convergence of the integrands (to determine an optimal upper bound for integration)"
   ]
  },
  {
   "cell_type": "code",
   "execution_count": 11,
   "metadata": {
    "zanadu": {
     "code_type": ""
    }
   },
   "outputs": [
    {
     "data": {
      "image/png": "[encoded data removed]",
      "text/plain": [
       "<Figure size 432x288 with 1 Axes>"
      ]
     },
     "metadata": {
      "needs_background": "light"
     },
     "output_type": "display_data"
    }
   ],
   "source": [
    "nu, beta, x0, y0, T = 1., 0.3, 0.02, 0.8, 0.05\n",
    "rr = np.linspace(0.01, 0.1, 50)\n",
    "inte1 = [pp(r/(y0*y0), T, nu) for r in rr]\n",
    "inte2 = [ppX(r, beta, x0) for r in rr]\n",
    "plt.plot(rr, inte1, 'b--', linewidth=2, label=\"int1\")\n",
    "plt.plot(rr, inte2, 'r--', linewidth=2, label=\"int2\")\n",
    "plt.plot(rr, [ i1*i2 for (i1,i2) in zip(inte1, inte2)], 'k--', linewidth=2, label=\"int\")\n",
    "plt.show()"
   ]
  },
  {
   "cell_type": "markdown",
   "metadata": {
    "zanadu": {}
   },
   "source": [
    "## Small-time approximations"
   ]
  },
  {
   "cell_type": "code",
   "execution_count": 12,
   "metadata": {
    "zanadu": {
     "is_hidden": false
    }
   },
   "outputs": [],
   "source": [
    "def approx_m(y,z):\n",
    "    mu = -3. / 4.\n",
    "    ## Small-time expansion for the function m\n",
    "    def sol(u, *args):\n",
    "        y = args[0]\n",
    "        z = args[1]\n",
    "        return (2.*mu - 1. + 4.*u*y + 2.*np.log(z/2.)*np.sqrt(u) - np.sqrt(u)*np.log(u))\n",
    "    uy = bisect(sol, 1E-4, 1E7, args=(y, z), xtol=1e-20, rtol=1e-12, full_output=False, disp=True)\n",
    "    ee = (0.5-mu)*(1.-0.5*np.log(uy))-y*uy+np.sqrt(uy)\n",
    "    My = np.log(uy) / (16. *uy*np.sqrt(uy)) - (1. + np.log(z/2.))/(8. *uy*np.sqrt(uy)) + (1.-2.*mu)/(8.*uy*uy)\n",
    "    return 0.5*np.sqrt(z/np.pi)*np.exp(ee)/np.sqrt(My)\n",
    "\n",
    "def approx_Integral_m_Bootstrap(y, z):\n",
    "    ## Small-time approximation of the function m using the bootstrap expansion for the constant M_y\n",
    "    mu = -3./ 4.\n",
    "    def sol(u, *args):\n",
    "        y = args[0]\n",
    "        z = args[1]\n",
    "        return (2.*mu - 1.+4.*u*y +2.*np.log(z/2.)*np.sqrt(u) - np.sqrt(u)*np.log(u))\n",
    "    uy = bisect(sol, 1E-3, 1E6, args=(y, z), xtol=1e-20, rtol=1e-13, full_output=False, disp=True)\n",
    "    ee = (0.5-mu)*(1.-0.5*np.log(uy))-y*uy+np.sqrt(uy)\n",
    "    return 0.5*np.sqrt(z/np.pi)*abs(np.log(y))/(y*np.sqrt(y))*np.exp(ee)\n",
    "\n",
    "def approx_m_2Terms(y, z):\n",
    "    ## Small-time expansion for the function m, with only two terms for the constant M_y\n",
    "    mu = -3./ 4.\n",
    "    def sol(u, *args):\n",
    "        y = args[0]\n",
    "        z = args[1]\n",
    "        return (2.*mu - 1. + 4.*u*y +2.*np.log(z/2.)*np.sqrt(u) - np.sqrt(u)*np.log(u))\n",
    "    uy = bisect(sol, 1E-3, 1E6, args=(y, z), xtol=1e-20, rtol=1e-12, full_output=False, disp=True)\n",
    "    ee = (0.5-mu)*(1.-0.5*np.log(uy))-y*uy+np.sqrt(uy)\n",
    "    My = np.log(uy) / (16. *uy*np.sqrt(uy)) - (1. + np.log(z/2.))/(8. *uy*np.sqrt(uy)) #+ (1.0-2.0*mu)/(8.0*uy*uy)\n",
    "    return 0.5*np.sqrt(z/np.pi)*np.exp(ee)/np.sqrt(My)"
   ]
  },
  {
   "cell_type": "markdown",
   "metadata": {
    "zanadu": {}
   },
   "source": [
    "### Using the small-time approximation of the function $m$"
   ]
  },
  {
   "cell_type": "code",
   "execution_count": 13,
   "metadata": {
    "zanadu": {
     "code_type": ""
    }
   },
   "outputs": [],
   "source": [
    "def pp_approx(r, T, nu):\n",
    "    return 2.**(0.25)*np.sqrt(nu)/(r**(3./4.))*np.exp(-nu*nu*T/8. - 0.25/(nu*nu*r))*approx_m(2.*nu*nu*T, 1./(4.*nu*nu*r))"
   ]
  },
  {
   "cell_type": "code",
   "execution_count": 14,
   "metadata": {
    "zanadu": {
     "code_type": "importable"
    }
   },
   "outputs": [],
   "source": [
    "def mass_0_SmallTime_approx(T, y0, nu, beta, x0, rMax=2.):\n",
    "    return quad(lambda r: pp_approx(r/(y0*y0), T, nu)*ppX(r,beta,x0),0.,rMax, epsrel=1.49e-6, limit=50)[0]/(y0*y0)"
   ]
  },
  {
   "cell_type": "markdown",
   "metadata": {
    "zanadu": {}
   },
   "source": [
    "## Mass using approximations of $I_t := \\int_{0}^{t}Y_s^2 \\mathrm{d}s$"
   ]
  },
  {
   "cell_type": "markdown",
   "metadata": {
    "zanadu": {}
   },
   "source": [
    "### $I_t \\approx y_0^2 t$"
   ]
  },
  {
   "cell_type": "markdown",
   "metadata": {
    "zanadu": {}
   },
   "source": [
    "In that case, following the notations in the paper, we have\n",
    "$$\n",
    "\\mathbb{P}(X_t=0) = \\mathbb{P}\\left(\\widetilde{X}_{I_t}=0\\right) \\approx \\mathbb{P}\\left(\\widetilde{X}_{y_0^2 t}=0\\right).\n",
    "$$"
   ]
  },
  {
   "cell_type": "code",
   "execution_count": 15,
   "metadata": {
    "zanadu": {
     "code_type": ""
    }
   },
   "outputs": [],
   "source": [
    "def mass_0_SmallTime_approx1(T, y0, nu, beta, x0):\n",
    "    return ppX(y0*y0*T,beta,x0)\n",
    "TT = np.linspace(0.05, .2, 10)"
   ]
  },
  {
   "cell_type": "markdown",
   "metadata": {
    "zanadu": {}
   },
   "source": [
    "### Matching moments"
   ]
  },
  {
   "cell_type": "markdown",
   "metadata": {
    "zanadu": {
     "id": "2FCBEC84E9D44EEB82A2BD798FC2C202"
    }
   },
   "source": [
    "Assume that \n",
    "$I_t =: y_0^2 J_t \\approx y_0^2\\Theta$,\n",
    "where $\\Theta$ is a log-Normal random variable. \n",
    "Writing $\\Theta = \\exp(\\mu + \\sigma \\mathcal{N}(0,1))$, we have\n",
    "$$\n",
    "\\mathbb{E}(\\Theta) = \\exp\\left(\\mu+\\frac{\\sigma^2}{2}\\right)\n",
    "\\qquad\\text{and}\\qquad\n",
    "\\mathbb{E}(\\Theta^2) = \\exp\\left(2\\mu+2\\sigma^2\\right).\n",
    "$$\n",
    "We can further compute the first two moment of $J_t$ as \n",
    "$$\n",
    "\\mathbb{E}(J_t) = \\frac{1}{\\nu^2}\\left(\\mathrm{e}^{\\nu^2 t}-1\\right)\n",
    "\\qquad\\text{and}\\qquad\n",
    "\\mathbb{E}(J_t^2) = \\frac{1}{15\\nu^4}\\left(\\mathrm{e}^{6\\nu^2 t} - 6\\mathrm{e}^{\\nu^2 t} + 5\\right).\n",
    "$$\n",
    "Matching the moments, we obtain\n",
    "$$\n",
    "\\mu = \\log\\left(\\frac{\\mathbb{E}(J_t)^2}{\\sqrt{\\mathbb{E}(J_t^2)}}\\right)\n",
    "\\qquad\\text{and}\\qquad\n",
    "\\sigma^2 = \\log\\left(\\frac{\\mathbb{E}(J_t^2)}{\\mathbb{E}(J_t)^{2}}\\right).\n",
    "$$\n",
    "Therefore, the density of $I_t$ is approximated as\n",
    "$f_{I_t}(z) \\approx y_0^{-2}f_{\\Theta}\\left(\\frac{z}{y_0^2}\\right)$,\n",
    "with\n",
    "$$\n",
    "f_{\\Theta}(z) = \\frac{1}{z\\sigma\\sqrt{2\\pi}}\\exp\\left\\{-\\frac{(\\log(z)-\\mu)^2}{2\\sigma^2}\\right\\}.\n",
    "$$"
   ]
  },
  {
   "cell_type": "code",
   "execution_count": 16,
   "metadata": {
    "zanadu": {
     "code_type": "",
     "is_hidden": false
    }
   },
   "outputs": [],
   "source": [
    "def logNormalDensity(mu, sigma, z):\n",
    "    return np.exp(-(np.log(z)-mu)*(np.log(z)-mu) / (2.*sigma*sigma))/(z*sigma*np.sqrt(2.*np.pi))\n",
    "\n",
    "def densityLNMatched(T, y0, nu, r):\n",
    "    ev = np.exp(nu*nu*T)\n",
    "    ee = (np.exp(nu*nu*T)-1.)/(nu*nu)\n",
    "    ee2 = (ev**6 - 6.*ev + 5.)/(15.*nu*nu*nu*nu)\n",
    "    sigma = np.sqrt(np.log(ee2/(ee*ee)))\n",
    "    mu = np.log(ee*ee/np.sqrt(ee2))\n",
    "    return logNormalDensity(mu, sigma, r/(y0*y0))/(y0*y0)\n",
    "\n",
    "def mass_0_SmallTime_approx_LN(T, y0, nu, beta, x0, rMax=5.):\n",
    "    ev = np.exp(nu*nu*T)\n",
    "    ee = (np.exp(nu*nu*T)-1.)/(nu*nu)\n",
    "    ee2 = (ev**6 - 6.*ev + 5.)/(15.*nu*nu*nu*nu)\n",
    "    sigma = np.sqrt(np.log(ee2/(ee*ee)))\n",
    "    mu = np.log(ee*ee/np.sqrt(ee2))\n",
    "    return quad(lambda r: logNormalDensity(mu, sigma, r/(y0*y0))*ppX(r,beta,x0),0.,rMax, epsrel=1.49e-15, limit=200)[0]/(y0*y0)"
   ]
  },
  {
   "cell_type": "code",
   "execution_count": 17,
   "metadata": {
    "zanadu": {
     "code_type": ""
    }
   },
   "outputs": [
    {
     "data": {
      "image/png": "[encoded data removed]",
      "text/plain": [
       "<Figure size 432x288 with 1 Axes>"
      ]
     },
     "metadata": {
      "needs_background": "light"
     },
     "output_type": "display_data"
    }
   ],
   "source": [
    "nu, beta, x0, y0, T = 1., 0.3, 0.02, 0.8, 0.05\n",
    "rr = np.linspace(1E-2, 0.1, 40)\n",
    "density0 = [pp(r/(y0*y0), T, nu)/(y0*y0) for r in rr]\n",
    "densityLN = [densityLNMatched(T, y0, nu, r) for r in rr]\n",
    "plt.plot(rr, density0, 'b')\n",
    "plt.plot(rr, densityLN, 'r')\n",
    "plt.show()"
   ]
  },
  {
   "cell_type": "code",
   "execution_count": null,
   "metadata": {},
   "outputs": [],
   "source": []
  }
 ],
 "metadata": {
  "kernelspec": {
   "display_name": "Python 3",
   "language": "python",
   "name": "python3"
  },
  "language_info": {
   "codemirror_mode": {
    "name": "ipython",
    "version": 3
   },
   "file_extension": ".py",
   "mimetype": "text/x-python",
   "name": "python",
   "nbconvert_exporter": "python",
   "pygments_lexer": "ipython3",
   "version": "3.7.6"
  },
  "zanadu": {
   "authors": [
    "Antoine Jacquier"
   ],
   "bibliography_data": {
    "Borodin": {
     "author": "A. N. Borodin and P. Salminen",
     "id": "Borodin",
     "title": "Handbook of Brownian motion - Facts and Formulae"
    }
   },
   "category": "1",
   "clearance": "Internal",
   "group_name": "ETHIC",
   "md5": "153ea1f492e5ffc913f5f10b302835e2",
   "notebook_id": "4C8FF73A-EE96-429B-8DC0-A0E4844EB85F",
   "python_name": "SABR_SmallTime_Mass0",
   "reviewer_id": null,
   "status": "WIP"
  }
 },
 "nbformat": 4,
 "nbformat_minor": 1
}
